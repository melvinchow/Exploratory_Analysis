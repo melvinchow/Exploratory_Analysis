{
 "cells": [
  {
   "cell_type": "markdown",
   "metadata": {},
   "source": [
    "# Twitter Sentiment Analysis - #FirstDayofFall"
   ]
  },
  {
   "cell_type": "markdown",
   "metadata": {},
   "source": [
    "### September 22, 2017 marks the first day of fall.  How does everybody on twitter feel about the change of season?"
   ]
  },
  {
   "cell_type": "code",
   "execution_count": 3,
   "metadata": {
    "collapsed": true
   },
   "outputs": [],
   "source": [
    "# Libraries:\n",
    "\n",
    "import re"
   ]
  },
  {
   "cell_type": "markdown",
   "metadata": {},
   "source": [
    "## Gathered ~10 minutes of live tweets that include \"#FirstDayofFall\" in the tweet."
   ]
  },
  {
   "cell_type": "code",
   "execution_count": 4,
   "metadata": {
    "collapsed": false
   },
   "outputs": [],
   "source": [
    "# Import tweets list\n",
    "\n",
    "tweets = open('/Users/melvinchow/Documents/SCU/2017_Fall/MSIS 2802 Python/HW1/FirstDayofFall.txt', 'r')"
   ]
  },
  {
   "cell_type": "markdown",
   "metadata": {},
   "source": [
    "## Found lists of positive and negative sentiment words on github:\n",
    "\n",
    "https://github.com/jeffreybreen/twitter-sentiment-analysis-tutorial-201107/tree/master/data/opinion-lexicon-English"
   ]
  },
  {
   "cell_type": "code",
   "execution_count": 5,
   "metadata": {
    "collapsed": true
   },
   "outputs": [],
   "source": [
    "# Import lists of sentiment words\n",
    "\n",
    "posWords = open('/Users/melvinchow/Documents/SCU/2017_Fall/MSIS 2802 Python/HW1/PosWords.txt', 'r')\n",
    "negWords = open('/Users/melvinchow/Documents/SCU/2017_Fall/MSIS 2802 Python/HW1/NegWords.txt', 'r')"
   ]
  },
  {
   "cell_type": "code",
   "execution_count": 6,
   "metadata": {
    "collapsed": false
   },
   "outputs": [],
   "source": [
    "# Initialize array of Positive and Negative words\n",
    "positive = []\n",
    "negative = []\n",
    "\n",
    "for line in posWords:\n",
    "    stripped = line.strip()       # Remove newline from end of line before append\n",
    "    positive.append(stripped)\n",
    "\n",
    "for line in negWords:\n",
    "    stripped = line.strip()       # Remove newline from end of line before append\n",
    "    negative.append(stripped)\n"
   ]
  },
  {
   "cell_type": "markdown",
   "metadata": {},
   "source": [
    "### Count and categorize sentiment of words in each line of tweets"
   ]
  },
  {
   "cell_type": "code",
   "execution_count": 7,
   "metadata": {
    "collapsed": false
   },
   "outputs": [],
   "source": [
    "# Variables for counting sentiment words:\n",
    "pos_count = 0\n",
    "neg_count = 0\n",
    "\n",
    "for line in tweets:\n",
    "    # Remove newline from end of line\n",
    "    stripped = line.strip()\n",
    "    \n",
    "    # convert to lower case\n",
    "    lowered = stripped.lower()\n",
    "    \n",
    "    # Rm special characters\n",
    "    noSpecials = re.sub('[^a-zA-Z0-9\\n\\.]', ' ', lowered)\n",
    "    \n",
    "    # split by spaces into array\n",
    "    Tokens = noSpecials.split(' ')\n",
    "    \n",
    "    for word in Tokens:\n",
    "        if word in positive:\n",
    "            pos_count = pos_count + 1\n",
    "        \n",
    "        elif word in negative:\n",
    "            neg_count = neg_count + 1"
   ]
  },
  {
   "cell_type": "markdown",
   "metadata": {},
   "source": [
    "### The results:"
   ]
  },
  {
   "cell_type": "code",
   "execution_count": 8,
   "metadata": {
    "collapsed": false
   },
   "outputs": [
    {
     "name": "stdout",
     "output_type": "stream",
     "text": [
      "Total positive (+) sentiment words found: 21431\n",
      "Total negative (-) sentiment words found: 424\n",
      "Total sentiment words found: 21855\n"
     ]
    }
   ],
   "source": [
    "print \"Total positive (+) sentiment words found: \" + str(pos_count)\n",
    "print \"Total negative (-) sentiment words found: \" + str(neg_count)\n",
    "print \"Total sentiment words found: \" + str(pos_count + neg_count)"
   ]
  },
  {
   "cell_type": "code",
   "execution_count": 9,
   "metadata": {
    "collapsed": false
   },
   "outputs": [],
   "source": [
    "# Close files\n",
    "\n",
    "posWords.close()\n",
    "negWords.close()\n",
    "tweets.close()"
   ]
  },
  {
   "cell_type": "markdown",
   "metadata": {},
   "source": [
    "### General sentiment for approach of the Fall weather season is strongly positive."
   ]
  },
  {
   "cell_type": "code",
   "execution_count": null,
   "metadata": {
    "collapsed": true
   },
   "outputs": [],
   "source": []
  }
 ],
 "metadata": {
  "kernelspec": {
   "display_name": "Python 2",
   "language": "python",
   "name": "python2"
  },
  "language_info": {
   "codemirror_mode": {
    "name": "ipython",
    "version": 2
   },
   "file_extension": ".py",
   "mimetype": "text/x-python",
   "name": "python",
   "nbconvert_exporter": "python",
   "pygments_lexer": "ipython2",
   "version": "2.7.11"
  }
 },
 "nbformat": 4,
 "nbformat_minor": 0
}
