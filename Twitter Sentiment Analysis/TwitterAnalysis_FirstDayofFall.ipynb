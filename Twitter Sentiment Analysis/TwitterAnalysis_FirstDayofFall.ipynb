{
 "cells": [
  {
   "cell_type": "markdown",
   "metadata": {},
   "source": [
    "# Twitter Sentiment Analysis - #FirstDayofFall"
   ]
  },
  {
   "cell_type": "markdown",
   "metadata": {},
   "source": [
    "### September 22, 2017 marks the first day of fall.  How does everybody on twitter feel about the change of season?"
   ]
  },
  {
   "cell_type": "code",
   "execution_count": 1,
   "metadata": {
    "collapsed": true
   },
   "outputs": [],
   "source": [
    "# Libraries:\n",
    "\n",
    "import re"
   ]
  },
  {
   "cell_type": "markdown",
   "metadata": {},
   "source": [
    "## Gathered ~10 minutes of live tweets that include \"#FirstDayofFall\" in the tweet."
   ]
  },
  {
   "cell_type": "code",
   "execution_count": 2,
   "metadata": {
    "collapsed": false
   },
   "outputs": [],
   "source": [
    "# Import tweets list\n",
    "\n",
    "tweets = open('FirstDayofFall.txt', 'r')"
   ]
  },
  {
   "cell_type": "markdown",
   "metadata": {},
   "source": [
    "## Found lists of positive and negative sentiment words on github:\n",
    "\n",
    "https://github.com/jeffreybreen/twitter-sentiment-analysis-tutorial-201107/tree/master/data/opinion-lexicon-English"
   ]
  },
  {
   "cell_type": "code",
   "execution_count": 3,
   "metadata": {
    "collapsed": true
   },
   "outputs": [],
   "source": [
    "# Import lists of sentiment words\n",
    "\n",
    "posWords = open('P.txt', 'r')\n",
    "negWords = open('N.txt', 'r')"
   ]
  },
  {
   "cell_type": "code",
   "execution_count": 4,
   "metadata": {
    "collapsed": false
   },
   "outputs": [],
   "source": [
    "# Initialize array of Positive and Negative words\n",
    "positive = []\n",
    "negative = []\n",
    "\n",
    "for line in posWords:\n",
    "    stripped = line.strip()       # Remove newline from end of line before append\n",
    "    positive.append(stripped)\n",
    "\n",
    "for line in negWords:\n",
    "    stripped = line.strip()       # Remove newline from end of line before append\n",
    "    negative.append(stripped)\n"
   ]
  },
  {
   "cell_type": "markdown",
   "metadata": {},
   "source": [
    "### Count and categorize sentiment of words in each line of tweets"
   ]
  },
  {
   "cell_type": "code",
   "execution_count": 5,
   "metadata": {
    "collapsed": false
   },
   "outputs": [],
   "source": [
    "# Variables for counting sentiment words:\n",
    "pos_count = 0\n",
    "neg_count = 0\n",
    "\n",
    "for line in tweets:\n",
    "    # Remove newline from end of line\n",
    "    stripped = line.strip()\n",
    "    \n",
    "    # convert to lower case\n",
    "    lowered = stripped.lower()\n",
    "    \n",
    "    # Rm special characters\n",
    "    noSpecials = re.sub('[?|$|.|!]', ' ', lowered)\n",
    "    \n",
    "    # split by spaces into array\n",
    "    Tokens = noSpecials.split(' ')\n",
    "    \n",
    "    # Rm blank array elements\n",
    "    Tokens2 = filter(None, Tokens)\n",
    "    \n",
    "    for word in Tokens:\n",
    "        if word in positive:\n",
    "            pos_count = pos_count + 1\n",
    "        \n",
    "        elif word in negative:\n",
    "            neg_count = neg_count + 1"
   ]
  },
  {
   "cell_type": "markdown",
   "metadata": {},
   "source": [
    "### The results:"
   ]
  },
  {
   "cell_type": "code",
   "execution_count": 6,
   "metadata": {
    "collapsed": false,
    "scrolled": true
   },
   "outputs": [
    {
     "name": "stdout",
     "output_type": "stream",
     "text": [
      "Total polarizing words found: 1621\n",
      "Total positive (+) sentiment words found: 1226 \n",
      "Total negative (-) sentiment words found: 395\n",
      "Degree of positive sentiment: 0.756323257249\n",
      "Degree of negative sentiment: 0.243676742751\n"
     ]
    }
   ],
   "source": [
    "Total = pos_count + neg_count\n",
    "degPos = float(pos_count) / Total\n",
    "degNeg = float(neg_count) / Total\n",
    "print \"Total polarizing words found: %s\" % Total\n",
    "print \"Total positive (+) sentiment words found: %s \" % pos_count\n",
    "print \"Total negative (-) sentiment words found: %s\" % neg_count\n",
    "print \"Degree of positive sentiment: %s\" % degPos\n",
    "print \"Degree of negative sentiment: %s\" % degNeg"
   ]
  },
  {
   "cell_type": "markdown",
   "metadata": {},
   "source": [
    "### General sentiment for approach of the Fall weather season is strongly positive."
   ]
  },
  {
   "cell_type": "code",
   "execution_count": 7,
   "metadata": {
    "collapsed": false
   },
   "outputs": [],
   "source": [
    "# Close files\n",
    "\n",
    "posWords.close()\n",
    "negWords.close()\n",
    "tweets.close()"
   ]
  }
 ],
 "metadata": {
  "kernelspec": {
   "display_name": "Python 2",
   "language": "python",
   "name": "python2"
  },
  "language_info": {
   "codemirror_mode": {
    "name": "ipython",
    "version": 2
   },
   "file_extension": ".py",
   "mimetype": "text/x-python",
   "name": "python",
   "nbconvert_exporter": "python",
   "pygments_lexer": "ipython2",
   "version": "2.7.11"
  }
 },
 "nbformat": 4,
 "nbformat_minor": 0
}
