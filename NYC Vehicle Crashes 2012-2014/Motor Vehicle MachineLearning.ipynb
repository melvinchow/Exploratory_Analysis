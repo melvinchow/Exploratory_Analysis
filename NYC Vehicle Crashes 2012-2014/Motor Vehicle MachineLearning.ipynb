{
 "cells": [
  {
   "cell_type": "markdown",
   "metadata": {},
   "source": [
    "# New York City Motor Vehicle Crashes from 2012-2014"
   ]
  },
  {
   "cell_type": "code",
   "execution_count": 1,
   "metadata": {
    "collapsed": true
   },
   "outputs": [],
   "source": [
    "import numpy as np\n",
    "import pandas as pd"
   ]
  },
  {
   "cell_type": "code",
   "execution_count": 2,
   "metadata": {
    "collapsed": false
   },
   "outputs": [],
   "source": [
    "MV = pd.read_csv('Motor_Vehicle_Crashes_-_Vehicle_Information__Three_Year_Window.csv')"
   ]
  },
  {
   "cell_type": "code",
   "execution_count": 3,
   "metadata": {
    "collapsed": false
   },
   "outputs": [
    {
     "data": {
      "text/html": [
       "<div>\n",
       "<style>\n",
       "    .dataframe thead tr:only-child th {\n",
       "        text-align: right;\n",
       "    }\n",
       "\n",
       "    .dataframe thead th {\n",
       "        text-align: left;\n",
       "    }\n",
       "\n",
       "    .dataframe tbody tr th {\n",
       "        vertical-align: top;\n",
       "    }\n",
       "</style>\n",
       "<table border=\"1\" class=\"dataframe\">\n",
       "  <thead>\n",
       "    <tr style=\"text-align: right;\">\n",
       "      <th></th>\n",
       "      <th>Year</th>\n",
       "      <th>Case Vehicle ID</th>\n",
       "      <th>Vehicle Body Type</th>\n",
       "      <th>Registration Class</th>\n",
       "      <th>Action Prior to Accident</th>\n",
       "      <th>Type / Axles of Truck or Bus</th>\n",
       "      <th>Direction of Travel</th>\n",
       "      <th>Fuel Type</th>\n",
       "      <th>Vehicle Year</th>\n",
       "      <th>State of Registration</th>\n",
       "      <th>Number of Occupants</th>\n",
       "      <th>Engine Cylinders</th>\n",
       "      <th>Vehicle Make</th>\n",
       "      <th>Contributing Factor 1</th>\n",
       "      <th>Contributing Factor 1 Description</th>\n",
       "      <th>Contributing Factor 2</th>\n",
       "      <th>Contributing Factor 2 Description</th>\n",
       "      <th>Event Type</th>\n",
       "      <th>Partial VIN</th>\n",
       "    </tr>\n",
       "  </thead>\n",
       "  <tbody>\n",
       "    <tr>\n",
       "      <th>0</th>\n",
       "      <td>2013</td>\n",
       "      <td>11256149</td>\n",
       "      <td>2 DOOR SEDAN</td>\n",
       "      <td>Not Entered</td>\n",
       "      <td>Backing</td>\n",
       "      <td>Not Entered</td>\n",
       "      <td>South</td>\n",
       "      <td>Not Entered</td>\n",
       "      <td>2013.0</td>\n",
       "      <td>NY</td>\n",
       "      <td>1.0</td>\n",
       "      <td>NaN</td>\n",
       "      <td>HOND</td>\n",
       "      <td>HUMAN</td>\n",
       "      <td>Backing Unsafely</td>\n",
       "      <td>HUMAN</td>\n",
       "      <td>Driver Inattention/Distraction*</td>\n",
       "      <td>Not Applicable</td>\n",
       "      <td>NaN</td>\n",
       "    </tr>\n",
       "    <tr>\n",
       "      <th>1</th>\n",
       "      <td>2013</td>\n",
       "      <td>11330798</td>\n",
       "      <td>4 DOOR SEDAN</td>\n",
       "      <td>Not Entered</td>\n",
       "      <td>Overtaking/Passing</td>\n",
       "      <td>Not Entered</td>\n",
       "      <td>North</td>\n",
       "      <td>Not Entered</td>\n",
       "      <td>2013.0</td>\n",
       "      <td>VA</td>\n",
       "      <td>1.0</td>\n",
       "      <td>NaN</td>\n",
       "      <td>DODG</td>\n",
       "      <td>HUMAN</td>\n",
       "      <td>Unsafe Lane Changing</td>\n",
       "      <td>HUMAN</td>\n",
       "      <td>Passing or Lane Usage Improper</td>\n",
       "      <td>Overturned, Non-Collision</td>\n",
       "      <td>NaN</td>\n",
       "    </tr>\n",
       "    <tr>\n",
       "      <th>2</th>\n",
       "      <td>2013</td>\n",
       "      <td>11053659</td>\n",
       "      <td>2 DOOR SEDAN</td>\n",
       "      <td>Not Entered</td>\n",
       "      <td>Going Straight Ahead</td>\n",
       "      <td>Not Entered</td>\n",
       "      <td>East</td>\n",
       "      <td>Not Entered</td>\n",
       "      <td>2010.0</td>\n",
       "      <td>PA</td>\n",
       "      <td>1.0</td>\n",
       "      <td>NaN</td>\n",
       "      <td>NISS</td>\n",
       "      <td>ENVMT</td>\n",
       "      <td>Animal's Action</td>\n",
       "      <td>HUMAN</td>\n",
       "      <td>Not Applicable</td>\n",
       "      <td>Not Applicable</td>\n",
       "      <td>NaN</td>\n",
       "    </tr>\n",
       "  </tbody>\n",
       "</table>\n",
       "</div>"
      ],
      "text/plain": [
       "   Year  Case Vehicle ID Vehicle Body Type Registration Class  \\\n",
       "0  2013         11256149      2 DOOR SEDAN        Not Entered   \n",
       "1  2013         11330798      4 DOOR SEDAN        Not Entered   \n",
       "2  2013         11053659      2 DOOR SEDAN        Not Entered   \n",
       "\n",
       "  Action Prior to Accident Type / Axles of Truck or Bus Direction of Travel  \\\n",
       "0                  Backing                  Not Entered               South   \n",
       "1       Overtaking/Passing                  Not Entered               North   \n",
       "2     Going Straight Ahead                  Not Entered                East   \n",
       "\n",
       "     Fuel Type  Vehicle Year State of Registration  Number of Occupants  \\\n",
       "0  Not Entered        2013.0                    NY                  1.0   \n",
       "1  Not Entered        2013.0                    VA                  1.0   \n",
       "2  Not Entered        2010.0                    PA                  1.0   \n",
       "\n",
       "   Engine Cylinders Vehicle Make Contributing Factor 1  \\\n",
       "0               NaN         HOND                 HUMAN   \n",
       "1               NaN         DODG                 HUMAN   \n",
       "2               NaN         NISS                 ENVMT   \n",
       "\n",
       "  Contributing Factor 1 Description Contributing Factor 2  \\\n",
       "0                  Backing Unsafely                 HUMAN   \n",
       "1              Unsafe Lane Changing                 HUMAN   \n",
       "2                   Animal's Action                 HUMAN   \n",
       "\n",
       "  Contributing Factor 2 Description                 Event Type Partial VIN  \n",
       "0   Driver Inattention/Distraction*             Not Applicable         NaN  \n",
       "1    Passing or Lane Usage Improper  Overturned, Non-Collision         NaN  \n",
       "2                    Not Applicable             Not Applicable         NaN  "
      ]
     },
     "execution_count": 3,
     "metadata": {},
     "output_type": "execute_result"
    }
   ],
   "source": [
    "MV.head(3)"
   ]
  },
  {
   "cell_type": "code",
   "execution_count": 4,
   "metadata": {
    "collapsed": false
   },
   "outputs": [
    {
     "data": {
      "text/plain": [
       "57"
      ]
     },
     "execution_count": 4,
     "metadata": {},
     "output_type": "execute_result"
    }
   ],
   "source": [
    "MV['Contributing Factor 2 Description'].nunique()"
   ]
  },
  {
   "cell_type": "code",
   "execution_count": 5,
   "metadata": {
    "collapsed": false
   },
   "outputs": [
    {
     "data": {
      "text/plain": [
       "Index([u'Year', u'Case Vehicle ID', u'Vehicle Body Type',\n",
       "       u'Registration Class', u'Action Prior to Accident',\n",
       "       u'Type / Axles of Truck or Bus', u'Direction of Travel', u'Fuel Type',\n",
       "       u'Vehicle Year', u'State of Registration', u'Number of Occupants',\n",
       "       u'Engine Cylinders', u'Vehicle Make', u'Contributing Factor 1',\n",
       "       u'Contributing Factor 1 Description', u'Contributing Factor 2',\n",
       "       u'Contributing Factor 2 Description', u'Event Type', u'Partial VIN'],\n",
       "      dtype='object')"
      ]
     },
     "execution_count": 5,
     "metadata": {},
     "output_type": "execute_result"
    }
   ],
   "source": [
    "MV.columns"
   ]
  },
  {
   "cell_type": "code",
   "execution_count": 12,
   "metadata": {
    "collapsed": false
   },
   "outputs": [
    {
     "data": {
      "text/plain": [
       "Index([u'Year', u'Case Vehicle ID', u'Vehicle Body Type',\n",
       "       u'Registration Class', u'Action Prior to Accident',\n",
       "       u'Type / Axles of Truck or Bus', u'Direction of Travel', u'Fuel Type',\n",
       "       u'Vehicle Year', u'State of Registration',\n",
       "       ...\n",
       "       u'Contributing Factor 2 Description_Tow Hitch Defective',\n",
       "       u'Contributing Factor 2 Description_Traffic Control Device Disregarded',\n",
       "       u'Contributing Factor 2 Description_Traffic Control Device Improper/Non-Working',\n",
       "       u'Contributing Factor 2 Description_Turning Improperly',\n",
       "       u'Contributing Factor 2 Description_Unknown',\n",
       "       u'Contributing Factor 2 Description_Unsafe Lane Changing',\n",
       "       u'Contributing Factor 2 Description_Unsafe Speed',\n",
       "       u'Contributing Factor 2 Description_Using On Board Navigation Device',\n",
       "       u'Contributing Factor 2 Description_View Obstructed/Limited',\n",
       "       u'Contributing Factor 2 Description_Windshield Inadequate'],\n",
       "      dtype='object', length=131)"
      ]
     },
     "execution_count": 12,
     "metadata": {},
     "output_type": "execute_result"
    }
   ],
   "source": [
    "pd.get_dummies(data=MV, columns=['Contributing Factor 1 Description', 'Contributing Factor 2 Description']).columns"
   ]
  },
  {
   "cell_type": "code",
   "execution_count": 7,
   "metadata": {
    "collapsed": false,
    "scrolled": true
   },
   "outputs": [
    {
     "data": {
      "text/plain": [
       "array(['Driver Inattention/Distraction*', 'Passing or Lane Usage Improper',\n",
       "       'Not Applicable', 'Not Entered', 'Following Too Closely', 'Unknown',\n",
       "       'Pavement Slippery', 'Failure to Yield Right-of-Way',\n",
       "       'Failure to Keep Right', 'Fell Asleep', 'View Obstructed/Limited',\n",
       "       'Unsafe Lane Changing', 'Unsafe Speed', \"Animal's Action\",\n",
       "       'Turning Improperly', 'Passenger Distraction', 'Oversized Vehicle',\n",
       "       'Traffic Control Device Disregarded',\n",
       "       'Reaction to Other Uninvolved Vehicle', 'Glare',\n",
       "       'Driver Inexperience*', 'Tire Failure/Inadequate',\n",
       "       'Fatigued/Drowsy', 'Prescription Medication',\n",
       "       'Other Electronic Device*', 'Other*', 'Backing Unsafely', 'Illness',\n",
       "       'Alcohol Involvement', 'Brakes Defective', 'Tow Hitch Defective',\n",
       "       'Other Lighting Defects', 'Steering Failure',\n",
       "       'Accelerator Defective', 'Shoulders Defective/Improper',\n",
       "       'Obstruction/ Debris', 'Aggressive Driving/Road Rage',\n",
       "       'Using On Board Navigation Device', 'Cell Phone (hand held)',\n",
       "       'Outside Car Distraction*', 'Lost Consciousness',\n",
       "       'Pedestrian/Bicyclist Error/Confusion', 'Passing Too Closely',\n",
       "       'Drugs (Illegal)', 'Pavement Defective', 'Texting',\n",
       "       'Driverless/Runaway Vehicle', 'Physical Disability',\n",
       "       'Traffic Control Device Improper/Non-Working', 'Tinted Windows',\n",
       "       'Eating or Drinking', 'Listening/Using Headphones',\n",
       "       'Lane Marking Improper/Inadequate', nan, 'Other',\n",
       "       'Cell Phone (hands-free)', 'Headlights Defective',\n",
       "       'Windshield Inadequate'], dtype=object)"
      ]
     },
     "execution_count": 7,
     "metadata": {},
     "output_type": "execute_result"
    }
   ],
   "source": [
    "MV['Contributing Factor 2 Description'].unique()"
   ]
  },
  {
   "cell_type": "markdown",
   "metadata": {},
   "source": [
    "Categorizing all 57 Contributing Factors to more general categories:"
   ]
  },
  {
   "cell_type": "code",
   "execution_count": 5,
   "metadata": {
    "collapsed": true
   },
   "outputs": [],
   "source": [
    "# Unsafe Driving\n",
    "Unsafe = ['Passing or Lane Usage Improper', 'Following Too Closely', 'Failure to Yield Right-of-Way', \n",
    "          'Failure to Keep Right', 'Unsafe Lane Changing', 'Unsafe Speed', 'Turning Improperly', \n",
    "          'Traffic Control Device Disregarded', 'Driver Inexperience*', 'Backing Unsafely', \n",
    "         'Aggressive Driving/Road Rage', 'Passing Too Closely']\n",
    "\n",
    "# Distracted Driving\n",
    "Distract = ['Driver Inattention/Distraction*', 'Fell Asleep', 'View Obstructed/Limited', 'Passenger Distraction', \n",
    "            'Fatigued/Drowsy', 'Prescription Medication', 'Other Electronic Device*', 'Illness', 'Alcohol Involvement', \n",
    "           'Using On Board Navigation Device', 'Cell Phone (hand held)', 'Outside Car Distraction*', 'Lost Consciousness', \n",
    "           'Drugs (Illegal)', 'Texting', 'Eating or Drinking', 'Listening/Using Headphones', 'Cell Phone (hands-free)']\n",
    "\n",
    "# Poor Quality Roads / Environment\n",
    "Enviro = ['Pavement Slippery', \"Animal's Action\", 'Shoulders Defective/Improper', 'Obstruction/ Debris', \n",
    "         'Pavement Defective', 'Traffic Control Device Improper/Non-Working', 'Lane Marking Improper/Inadequate', \n",
    "         'Oversized Vehicle', 'Reaction to Other Uninvolved Vehicle', 'Glare', 'Other Lighting Defects', \n",
    "         'Pedestrian/Bicyclist Error/Confusion', 'Driverless/Runaway Vehicle']\n",
    "\n",
    "# Car Defects\n",
    "Defect = ['Tire Failure/Inadequate', 'Brakes Defective', 'Tow Hitch Defective', 'Steering Failure', 'Accelerator Defective', \n",
    "         'Headlights Defective', 'Windshield Inadequate', 'Tinted Windows']\n",
    "\n",
    "# Uncategorized: 'Not Applicable', 'Not Entered', 'Unknown', 'Other*', 'Other', nan\n",
    "# Not sure where to place:'Physical Disability'"
   ]
  },
  {
   "cell_type": "markdown",
   "metadata": {
    "collapsed": true
   },
   "source": [
    "* Unsafe Driving\n",
    " * Unsafe Lane changing\n",
    " * Unsafe Speed\n",
    " * Failure to Yield Right-of-Way\n",
    " * Passing Too Closely\n",
    " * Following Too Closely\n",
    " * Passing or Lane Usage Improper\n",
    " * Turning Improperly\n",
    " * Aggressive Driving/Road Rage\n",
    " * Traffic Control Device Disregarded\n",
    " * Backing Unsafely\n",
    "\n",
    "* Distracted Driving:\n",
    " * Driver Inattention/Distraction*\n",
    " * Cell phone (hand held)\n",
    " * Cell phone (hands-free)\n",
    " * Texting\n",
    " * Other Electronic Device*\n",
    " * Passenger Distraction\n",
    " * Using On Board Navigation Device\n",
    " * Listening/Using Headphones\n",
    " * Eating or Drinking\n",
    "\n",
    "* Poor quality roads / environment\n",
    " * Pavement Defective\n",
    " * Pavement Slippery\n",
    " * Obstruction/ Debris\n",
    " * Shoulders Defective/Improper\n",
    " * Traffic Control Device Improper/Non-Working\n",
    " * Lane Marking Improper/Inadequate\n",
    "\n",
    "* Car manufacturer breakdown / quality problems\n",
    " * Steering Failure\n",
    " * Accelerator Defective\n",
    " * Brakes Defective"
   ]
  },
  {
   "cell_type": "markdown",
   "metadata": {},
   "source": [
    "## Year 2013"
   ]
  },
  {
   "cell_type": "code",
   "execution_count": 6,
   "metadata": {
    "collapsed": true
   },
   "outputs": [],
   "source": [
    "Crash_13 = MV[MV.Year == 2013]"
   ]
  },
  {
   "cell_type": "code",
   "execution_count": 14,
   "metadata": {
    "collapsed": false
   },
   "outputs": [
    {
     "data": {
      "text/plain": [
       "array(['Backing', 'Overtaking/Passing', 'Going Straight Ahead',\n",
       "       'Changing Lanes', 'Making Left Turn', 'Parked',\n",
       "       'Slowing or Stopping', 'Making Right Turn', 'Stopped in Traffic',\n",
       "       'Starting from Parking', 'Merging', 'Starting in Traffic', 'Other',\n",
       "       'Unknown', 'Making U Turn', 'Entering Parked Position',\n",
       "       'Avoiding Object in Roadway', 'Police Pursuit', 'Not Applicable',\n",
       "       'Making Left Turn on Red', 'Making Right Turn on Red', 'Not Entered'], dtype=object)"
      ]
     },
     "execution_count": 14,
     "metadata": {},
     "output_type": "execute_result"
    }
   ],
   "source": [
    "Crash_13['Action Prior to Accident'].unique()"
   ]
  },
  {
   "cell_type": "code",
   "execution_count": 15,
   "metadata": {
    "collapsed": false
   },
   "outputs": [
    {
     "data": {
      "text/plain": [
       "Vehicle Body Type\n",
       "4 DOOR SEDAN       225950\n",
       "SUBURBAN           163559\n",
       "UNKNOWN VEHICLE     34484\n",
       "PICKUP TRUCK        32839\n",
       "2 DOOR SEDAN        27036\n",
       "PEDESTRIAN          16927\n",
       "VAN TRUCK           10345\n",
       "BICYCLIST            6364\n",
       "MOTORCYCLE           5328\n",
       "TRACTOR              4687\n",
       "BUS (OMNIBUS)        4184\n",
       "TAXI                 4156\n",
       "CONVERTIBLE          3926\n",
       "SEDAN                3061\n",
       "DUMP                 2834\n",
       "Name: Year, dtype: int64"
      ]
     },
     "execution_count": 15,
     "metadata": {},
     "output_type": "execute_result"
    }
   ],
   "source": [
    "Crash_13.groupby(['Vehicle Body Type'])['Year'].count().sort_values(ascending=False).head(15)"
   ]
  },
  {
   "cell_type": "markdown",
   "metadata": {},
   "source": [
    "## Vin Numbers"
   ]
  },
  {
   "cell_type": "markdown",
   "metadata": {},
   "source": [
    "Each part of a Vin number stands for something unique about the car  \n",
    "* First digit = country of manufacture. USA is 1, 4 or 5. J for Japan, etc.\n",
    "* Second digit = Vehicle make (Ford, Volkswagen etc.)\n",
    "* Third digit = division within manufacturer\n",
    "* Fourth digit might contain a code that represents the vehicle's weight, horsepower or both.\n",
    "* Fifth digit often identifies the platform of the vehicle, such as van, pickup truck, trailer, sedan, etc.\n",
    "* Sixth digit can be a special code used by the manufacturer, or it might identify the specific model of the vehicle, such as Corvette, Durango or Mustang.\n",
    "* Seventh digit can be used to identify body type, such as four-door, two-door, hatchback or convertible.\n",
    "* Eighth digit is used for information about the engine, such as number of cylinders and engine displacement.\n",
    "* Ninth digit = check digit (in case of VIN # error)\n",
    "* Tenth = Model Year\n",
    "* Eleventh = plant code representing exact factory of assembly"
   ]
  },
  {
   "cell_type": "markdown",
   "metadata": {},
   "source": [
    "## Ideas for Findings:"
   ]
  },
  {
   "cell_type": "markdown",
   "metadata": {},
   "source": [
    "* Comparing 4-Door Sedans to 2-Door sedcans + Convertibles...... compare frequency of Distracted Driving to Dangerous Driving maneuvers being a contributor.  \n",
    " * One would think sportier cars (2 door sedan + convertibles) crash more from dangerous driving, and 4-door sedan crash more from distraction\n",
    " * OR, find correlation between engine cylinders & crashes?\n",
    " \n",
    "Keep questions general, otherwise too many variables eliminated, which eliminates need for machine learning to answer obvious question"
   ]
  },
  {
   "cell_type": "code",
   "execution_count": null,
   "metadata": {
    "collapsed": true
   },
   "outputs": [],
   "source": []
  }
 ],
 "metadata": {
  "kernelspec": {
   "display_name": "Python 2",
   "language": "python",
   "name": "python2"
  },
  "language_info": {
   "codemirror_mode": {
    "name": "ipython",
    "version": 2
   },
   "file_extension": ".py",
   "mimetype": "text/x-python",
   "name": "python",
   "nbconvert_exporter": "python",
   "pygments_lexer": "ipython2",
   "version": "2.7.11"
  }
 },
 "nbformat": 4,
 "nbformat_minor": 0
}
